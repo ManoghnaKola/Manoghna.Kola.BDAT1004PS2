{
 "cells": [
  {
   "cell_type": "code",
   "execution_count": 13,
   "id": "bc5f588b",
   "metadata": {},
   "outputs": [
    {
     "data": {
      "text/plain": [
       "6"
      ]
     },
     "execution_count": 13,
     "metadata": {},
     "output_type": "execute_result"
    }
   ],
   "source": [
    "#Question 1:\n",
    "\n",
    "a = 0\n",
    "def b():\n",
    " global a\n",
    " a = c(a)\n",
    "def c(a):\n",
    " return a + 2\n",
    "\n",
    "b()\n",
    "b()\n",
    "b()\n",
    "a\n",
    "\n",
    "\"\"\" In this program, we are having two functions 'b' and 'c' where function 'c' is called from function 'b'\n",
    "by passing an argument 'a' which is initially initialized as 0 and declared a global variable. In function c,\n",
    "we are adding 2 for variable 'a' and the returing the value of 'a'.\n",
    "\n",
    "In the first b(), we are not printing the value of 'a', it returns the value as 2.\n",
    "In the second b(), returned 'a' value will be added to 2. And it returns  as 4.\n",
    "In the third b(), returned 'a' value will be added to 2. And it returns  as 6.\n",
    "In last step, printing the value of 'a'. So, now it displays the value of 'a' as 6\n",
    "\n",
    "\"\"\""
   ]
  },
  {
   "cell_type": "code",
   "execution_count": 25,
   "id": "d7270ca3",
   "metadata": {},
   "outputs": [
    {
     "name": "stdout",
     "output_type": "stream",
     "text": [
      "6\n",
      "Sorry, file in the location C:\\Users\\Manoghna Kola\\Downloads\\bumper.txt not found \n"
     ]
    }
   ],
   "source": [
    "#Question 2:\n",
    "\n",
    "def fileLength(fileName): \n",
    "    #fileName = input(\"Enter the destination of the file \")\n",
    "    try:         \n",
    "        file = open(fileName,\"r\")\n",
    "        contents = file.read()\n",
    "        file.close()\n",
    "        print(len(contents))\n",
    "    except FileNotFoundError:\n",
    "        print(\"Sorry, file in the location \" +fileName+ \" not found \")\n",
    "    except:\n",
    "        print(\"Something went wrong, please check\")\n",
    "  \n",
    "fileLength(\"C:\\\\Users\\\\Manoghna Kola\\\\Downloads\\\\sample.txt\")\n",
    "fileLength(\"C:\\\\Users\\\\Manoghna Kola\\\\Downloads\\\\bumper.txt\")"
   ]
  },
  {
   "cell_type": "code",
   "execution_count": 24,
   "id": "60490c10",
   "metadata": {},
   "outputs": [
    {
     "name": "stdout",
     "output_type": "stream",
     "text": [
      "['doll', 'firetruck', 'kitten']\n"
     ]
    }
   ],
   "source": [
    "class Marsupial: \n",
    "    \n",
    "    def __init__(self):\n",
    "        self.wordList = []\n",
    "    def put_in_pouch(self, wordList): \n",
    "        self.wordList.append(wordList) \n",
    "    def pouch_contents(self):  \n",
    "        print(self.wordList)\n",
    "        \n",
    "m = Marsupial() \n",
    "m.put_in_pouch('doll')\n",
    "m.put_in_pouch('firetruck')\n",
    "m.put_in_pouch('kitten')\n",
    "m.pouch_contents()\n",
    "\n",
    "class Kangaroo(Marsupial):\n",
    "    \n",
    "    def __init__(self, x, y):\n",
    "        Marsupial.__init__(self)\n",
    "        self.x = x\n",
    "        self.y = y\n",
    "        \n",
    "    def jump(self, x1, y1):\n",
    "        self.x ++ x1   \n",
    "        self.y ++ y1   \n",
    "        \n",
    "    def __str__(self): \n",
    "        return \"I am a Kangaroo located at coordinates ({},{})\".format(self.x, self.y)"
   ]
  },
  {
   "cell_type": "code",
   "execution_count": 18,
   "id": "a7cb4131",
   "metadata": {},
   "outputs": [
    {
     "name": "stdout",
     "output_type": "stream",
     "text": [
      "I am a Kangaroo located at coordinates (0,0)\n"
     ]
    }
   ],
   "source": [
    "k = Kangaroo(0,0) \n",
    "print(k)"
   ]
  },
  {
   "cell_type": "code",
   "execution_count": 19,
   "id": "a6b374b6",
   "metadata": {},
   "outputs": [
    {
     "name": "stdout",
     "output_type": "stream",
     "text": [
      "['doll', 'firetruck', 'kitten']\n"
     ]
    }
   ],
   "source": [
    "k.put_in_pouch('doll') \n",
    "k.put_in_pouch('firetruck')\n",
    "k.put_in_pouch('kitten')\n",
    "k.pouch_contents() "
   ]
  },
  {
   "cell_type": "code",
   "execution_count": 20,
   "id": "c5783f7b",
   "metadata": {},
   "outputs": [
    {
     "name": "stdout",
     "output_type": "stream",
     "text": [
      "I am a Kangaroo located at coordinates (3,0)\n"
     ]
    }
   ],
   "source": [
    "k.jump(1,0) \n",
    "k.jump(1,0)\n",
    "k.jump(1,0)\n",
    "print(k)"
   ]
  },
  {
   "cell_type": "code",
   "execution_count": 51,
   "id": "72eb5af7",
   "metadata": {},
   "outputs": [
    {
     "name": "stdout",
     "output_type": "stream",
     "text": [
      "10\n",
      "5\n",
      "16\n",
      "8\n",
      "4\n",
      "2\n",
      "1\n"
     ]
    }
   ],
   "source": [
    "#Question 4:\n",
    "\n",
    "def collatz(x):\n",
    "     if x == 1:\n",
    "        print(x)\n",
    "     elif (x % 2) == 0:\n",
    "        print(x)\n",
    "        collatz(x // 2)\n",
    "     else:\n",
    "        print(x)\n",
    "        collatz((3*x)+1)\n",
    "         \n",
    "collatz(10)\n"
   ]
  },
  {
   "cell_type": "code",
   "execution_count": 15,
   "id": "9a153c19",
   "metadata": {},
   "outputs": [
    {
     "name": "stdout",
     "output_type": "stream",
     "text": [
      "Enter a number: 5\n",
      "101"
     ]
    }
   ],
   "source": [
    "#Question 5:\n",
    "\n",
    "decimal = int(input(\"Enter a number: \"))\n",
    "def binary(n):\n",
    "   \n",
    "   if n > 1:\n",
    "       binary(n//2)\n",
    "   print(n % 2, end = '')\n",
    " \n",
    "binary(decimal)"
   ]
  },
  {
   "cell_type": "code",
   "execution_count": 55,
   "id": "4a210c8c",
   "metadata": {},
   "outputs": [
    {
     "ename": "AttributeError",
     "evalue": "'HeadingParser' object has no attribute 'parse'",
     "output_type": "error",
     "traceback": [
      "\u001b[1;31m---------------------------------------------------------------------------\u001b[0m",
      "\u001b[1;31mAttributeError\u001b[0m                            Traceback (most recent call last)",
      "\u001b[1;32m<ipython-input-55-305468237332>\u001b[0m in \u001b[0;36m<module>\u001b[1;34m\u001b[0m\n\u001b[0;32m     20\u001b[0m \u001b[1;33m\u001b[0m\u001b[0m\n\u001b[0;32m     21\u001b[0m \u001b[0mhp\u001b[0m \u001b[1;33m=\u001b[0m \u001b[0mHeadingParser\u001b[0m\u001b[1;33m(\u001b[0m\u001b[1;33m)\u001b[0m\u001b[1;33m\u001b[0m\u001b[1;33m\u001b[0m\u001b[0m\n\u001b[1;32m---> 22\u001b[1;33m \u001b[0mhp\u001b[0m\u001b[1;33m.\u001b[0m\u001b[0mfeed\u001b[0m\u001b[1;33m(\u001b[0m\u001b[0mcontent\u001b[0m\u001b[1;33m)\u001b[0m\u001b[1;33m\u001b[0m\u001b[1;33m\u001b[0m\u001b[0m\n\u001b[0m",
      "\u001b[1;32m~\\anaconda3\\lib\\html\\parser.py\u001b[0m in \u001b[0;36mfeed\u001b[1;34m(self, data)\u001b[0m\n\u001b[0;32m    109\u001b[0m         \"\"\"\n\u001b[0;32m    110\u001b[0m         \u001b[0mself\u001b[0m\u001b[1;33m.\u001b[0m\u001b[0mrawdata\u001b[0m \u001b[1;33m=\u001b[0m \u001b[0mself\u001b[0m\u001b[1;33m.\u001b[0m\u001b[0mrawdata\u001b[0m \u001b[1;33m+\u001b[0m \u001b[0mdata\u001b[0m\u001b[1;33m\u001b[0m\u001b[1;33m\u001b[0m\u001b[0m\n\u001b[1;32m--> 111\u001b[1;33m         \u001b[0mself\u001b[0m\u001b[1;33m.\u001b[0m\u001b[0mgoahead\u001b[0m\u001b[1;33m(\u001b[0m\u001b[1;36m0\u001b[0m\u001b[1;33m)\u001b[0m\u001b[1;33m\u001b[0m\u001b[1;33m\u001b[0m\u001b[0m\n\u001b[0m\u001b[0;32m    112\u001b[0m \u001b[1;33m\u001b[0m\u001b[0m\n\u001b[0;32m    113\u001b[0m     \u001b[1;32mdef\u001b[0m \u001b[0mclose\u001b[0m\u001b[1;33m(\u001b[0m\u001b[0mself\u001b[0m\u001b[1;33m)\u001b[0m\u001b[1;33m:\u001b[0m\u001b[1;33m\u001b[0m\u001b[1;33m\u001b[0m\u001b[0m\n",
      "\u001b[1;32m~\\anaconda3\\lib\\html\\parser.py\u001b[0m in \u001b[0;36mgoahead\u001b[1;34m(self, end)\u001b[0m\n\u001b[0;32m    161\u001b[0m             \u001b[1;32mif\u001b[0m \u001b[0mi\u001b[0m \u001b[1;33m<\u001b[0m \u001b[0mj\u001b[0m\u001b[1;33m:\u001b[0m\u001b[1;33m\u001b[0m\u001b[1;33m\u001b[0m\u001b[0m\n\u001b[0;32m    162\u001b[0m                 \u001b[1;32mif\u001b[0m \u001b[0mself\u001b[0m\u001b[1;33m.\u001b[0m\u001b[0mconvert_charrefs\u001b[0m \u001b[1;32mand\u001b[0m \u001b[1;32mnot\u001b[0m \u001b[0mself\u001b[0m\u001b[1;33m.\u001b[0m\u001b[0mcdata_elem\u001b[0m\u001b[1;33m:\u001b[0m\u001b[1;33m\u001b[0m\u001b[1;33m\u001b[0m\u001b[0m\n\u001b[1;32m--> 163\u001b[1;33m                     \u001b[0mself\u001b[0m\u001b[1;33m.\u001b[0m\u001b[0mhandle_data\u001b[0m\u001b[1;33m(\u001b[0m\u001b[0munescape\u001b[0m\u001b[1;33m(\u001b[0m\u001b[0mrawdata\u001b[0m\u001b[1;33m[\u001b[0m\u001b[0mi\u001b[0m\u001b[1;33m:\u001b[0m\u001b[0mj\u001b[0m\u001b[1;33m]\u001b[0m\u001b[1;33m)\u001b[0m\u001b[1;33m)\u001b[0m\u001b[1;33m\u001b[0m\u001b[1;33m\u001b[0m\u001b[0m\n\u001b[0m\u001b[0;32m    164\u001b[0m                 \u001b[1;32melse\u001b[0m\u001b[1;33m:\u001b[0m\u001b[1;33m\u001b[0m\u001b[1;33m\u001b[0m\u001b[0m\n\u001b[0;32m    165\u001b[0m                     \u001b[0mself\u001b[0m\u001b[1;33m.\u001b[0m\u001b[0mhandle_data\u001b[0m\u001b[1;33m(\u001b[0m\u001b[0mrawdata\u001b[0m\u001b[1;33m[\u001b[0m\u001b[0mi\u001b[0m\u001b[1;33m:\u001b[0m\u001b[0mj\u001b[0m\u001b[1;33m]\u001b[0m\u001b[1;33m)\u001b[0m\u001b[1;33m\u001b[0m\u001b[1;33m\u001b[0m\u001b[0m\n",
      "\u001b[1;32m<ipython-input-55-305468237332>\u001b[0m in \u001b[0;36mhandle_data\u001b[1;34m(self, data)\u001b[0m\n\u001b[0;32m     15\u001b[0m \u001b[1;33m\u001b[0m\u001b[0m\n\u001b[0;32m     16\u001b[0m     \u001b[1;32mdef\u001b[0m \u001b[0mhandle_data\u001b[0m\u001b[1;33m(\u001b[0m\u001b[0mself\u001b[0m\u001b[1;33m,\u001b[0m \u001b[0mdata\u001b[0m\u001b[1;33m)\u001b[0m\u001b[1;33m:\u001b[0m\u001b[1;33m\u001b[0m\u001b[1;33m\u001b[0m\u001b[0m\n\u001b[1;32m---> 17\u001b[1;33m         \u001b[1;32mif\u001b[0m \u001b[0mself\u001b[0m\u001b[1;33m.\u001b[0m\u001b[0mparse\u001b[0m\u001b[1;33m:\u001b[0m\u001b[1;33m\u001b[0m\u001b[1;33m\u001b[0m\u001b[0m\n\u001b[0m\u001b[0;32m     18\u001b[0m             \u001b[0mprint\u001b[0m\u001b[1;33m(\u001b[0m\u001b[0mdata\u001b[0m\u001b[1;33m)\u001b[0m\u001b[1;33m\u001b[0m\u001b[1;33m\u001b[0m\u001b[0m\n\u001b[0;32m     19\u001b[0m             \u001b[0mprint\u001b[0m\u001b[1;33m(\u001b[0m\u001b[1;34m\"\\t\"\u001b[0m\u001b[1;33m,\u001b[0m \u001b[0mend\u001b[0m \u001b[1;33m=\u001b[0m \u001b[1;34m\" \"\u001b[0m\u001b[1;33m)\u001b[0m\u001b[1;33m\u001b[0m\u001b[1;33m\u001b[0m\u001b[0m\n",
      "\u001b[1;31mAttributeError\u001b[0m: 'HeadingParser' object has no attribute 'parse'"
     ]
    }
   ],
   "source": [
    "#Question 6:\n",
    "\n",
    "from html.parser import HTMLParser\n",
    "infile = open(\"C:\\\\Users\\\\Manoghna Kola\\\\Downloads\\\\w3c.html\", \"r\")\n",
    "content = infile.read()\n",
    "infile.close()\n",
    "\n",
    "class HeadingParser(HTMLParser):\n",
    "    \n",
    "    def handle_starttag(self, tag, attrs):\n",
    "        self.parse = 0 \n",
    "        self.data = []\n",
    "        if (len(tag)== 2 and tag[0] == 'h'):\n",
    "            self.parse = 1\n",
    "            \n",
    "    def handle_data(self, data):\n",
    "        if self.parse:\n",
    "            print(data)\n",
    "            print(\"\\t\", end = \" \")\n",
    "            \n",
    "hp = HeadingParser()\n",
    "hp.feed(content)"
   ]
  },
  {
   "cell_type": "code",
   "execution_count": 50,
   "id": "be44d5a7",
   "metadata": {},
   "outputs": [
    {
     "name": "stdout",
     "output_type": "stream",
     "text": [
      "https://www.w3.org/\n",
      "https://www.w3.org/standards/\n",
      "https://www.w3.org/participate/\n",
      "https://www.w3.org/Consortium/membership\n",
      "https://www.w3.org/Consortium/\n",
      "https://www.w3.org/Consortium/\n",
      "https://www.w3.org/Consortium/facts.html\n",
      "https://www.w3.org/Consortium/presskit.html\n",
      "https://www.w3.org/Consortium/sponsor/\n",
      "https://www.w3.org/Consortium/Recruitment/\n",
      "https://www.w3.org/Consortium/contact.html\n",
      "https://www.w3.org/Help/\n",
      "https://www.w3.org/Consortium/mission.html#w3c_content_body\n",
      "https://www.w3.org/\n",
      "https://www.w3.org/Consortium/\n",
      "https://www.w3.org/Consortium/mission.html#openstand\n",
      "https://www.w3.org/Consortium/mission.html#principles\n",
      "https://www.w3.org/Consortium/mission.html#vision\n",
      "http://open-stand.org/principles/\n",
      "http://open-stand.org/\n",
      "https://www.w3.org/WAI/\n",
      "https://www.w3.org/International/\n",
      "https://www.w3.org/standards/webofdevices/\n",
      "https://www.w3.org/Mobile/\n",
      "https://www.w3.org/standards/agents/Overview.html\n",
      "https://www.w3.org/standards/webdesign/\n",
      "https://www.w3.org/standards/webarch/\n",
      "https://www.w3.org/standards/xml/\n",
      "https://www.w3.org/standards/semanticweb/\n",
      "https://www.w3.org/standards/webofservices/\n",
      "https://www.w3.org/standards/semanticweb/\n",
      "https://www.w3.org/standards/xml/security\n",
      "https://www.w3.org/standards/webofservices/security\n",
      "https://www.w3.org/standards/webdesign/privacy\n",
      "https://www.w3.org/\n",
      "https://www.w3.org/standards/\n",
      "https://www.w3.org/participate/\n",
      "https://www.w3.org/Consortium/membership\n",
      "https://www.w3.org/Consortium/\n",
      "https://www.w3.org/Consortium/contact\n",
      "https://www.w3.org/Help/\n",
      "https://www.w3.org/Consortium/sup\n",
      "https://www.w3.org/Consortium/siteindex\n",
      "http://lists.w3.org/Archives/Public/site-comments/\n",
      "http://twitter.com/W3C\n",
      "http://www.csail.mit.edu/\n",
      "http://www.ercim.org/\n",
      "http://www.keio.ac.jp/\n",
      "http://ev.buaa.edu.cn/\n",
      "https://www.w3.org/Consortium/Legal/ipr-notice\n"
     ]
    }
   ],
   "source": [
    "from urllib.request import urlopen\n",
    "\n",
    "def view(url):\n",
    "    resource = urlopen(url)\n",
    "    content = resource.read().decode()\n",
    "    collector = Collector(url)\n",
    "    collector.feed(content)\n",
    "    return collector.getLinks()  \n",
    "     \n",
    "\n",
    "from html.parser import HTMLParser\n",
    "\n",
    "class Collector(HTMLParser): \n",
    "    \n",
    "    def __init__(self, url):\n",
    "        HTMLParser.__init__(self)\n",
    "        self.url = url\n",
    "        self.links = []\n",
    "        \n",
    "    def handle_starttag(self, tag, attrs):\n",
    "        if tag == 'a':\n",
    "            for attr in attrs:\n",
    "                if attr[0] == 'href':               \n",
    "                    absolute = urljoin(self.url, attr[1])\n",
    "                    if absolute[:4] == 'http': \n",
    "                        self.links.append(absolute)\n",
    "    def getLinks(self):\n",
    "        return self.links\n",
    "    \n",
    "\n",
    "def webdir(url, depth, indent):\n",
    "    \n",
    "    visit.add(url)\n",
    "    urls = view(url)\n",
    "    for i in urls:\n",
    "        print(i)\n",
    "            \n",
    "webdir('https://www.w3.org/Consortium/mission.html', 3, 0)"
   ]
  },
  {
   "cell_type": "code",
   "execution_count": 104,
   "id": "18b0e043",
   "metadata": {},
   "outputs": [
    {
     "name": "stdout",
     "output_type": "stream",
     "text": [
      "[('Mumbai', 'India', 'Winter', 24.8, 5.9), ('Mumbai', 'India', 'Spring', 28.4, 16.2), ('Mumbai', 'India', 'Summer', 27.9, 1549.4), ('Mumbai', 'India', 'Fall', 27.6, 346.0), ('London', 'United Kingdom', 'Winter', 4.2, 207.7), ('London', 'United Kingdom', 'Spring', 8.3, 169.6), ('London', 'United Kingdom', 'Summer', 15.7, 157.0), ('London', 'United Kingdom', 'Fall', 10.4, 218.5), ('Cairo', 'Egypt', 'Winter', 13.6, 16.5), ('Cairo', 'Egypt', 'Spring', 20.7, 6.5), ('Cairo', 'Egypt', 'Summer', 27.7, 0.1), ('Cairo', 'Egypt', 'Fall', 22.2, 4.5)]\n"
     ]
    }
   ],
   "source": [
    "#Question 8: Write SQL queries on the below database table that return: \n",
    "\n",
    "import sqlite3\n",
    "def recordsInsertion(recordList):\n",
    "    con = sqlite3.connect('web.db')\n",
    "    cur = con.cursor()\n",
    "    cur.execute(\"Create table weatherReport(City text, Country text, Season text, Temperature float, Rainfall float)\")\n",
    "    cur.executemany(\"Insert into weatherReport(City, Country, Season, Temperature, Rainfall) values (?,?,?,?,?)\", (recordList))\n",
    "    con.commit()\n",
    "records = [('Mumbai','India','Winter',24.8,5.9),('Mumbai','India','Spring',28.4,16.2),('Mumbai','India','Summer',27.9,1549.4),('Mumbai','India','Fall',27.6,346.0),('London','United Kingdom','Winter',4.2,207.7),('London','United Kingdom','Spring',8.3,169.6),('London','United Kingdom','Summer',15.7,157.0),('London','United Kingdom','Fall',10.4,218.5),('Cairo','Egypt','Winter',13.6,16.5),('Cairo','Egypt','Spring',20.7,6.5),('Cairo','Egypt','Summer',27.7,0.1),('Cairo','Egypt','Fall',22.2,4.5)]\n",
    "\n",
    "recordsInsertion(records)\n",
    "\n",
    "cur.execute(\"Select * from weatherReport\")\n",
    "print(cur.fetchall())\n",
    "\n",
    "    \n",
    "\n",
    "\n",
    "\n",
    "\n"
   ]
  },
  {
   "cell_type": "code",
   "execution_count": 105,
   "id": "5bf118c5",
   "metadata": {},
   "outputs": [
    {
     "name": "stdout",
     "output_type": "stream",
     "text": [
      "[(24.8,), (28.4,), (27.9,), (27.6,), (4.2,), (8.3,), (15.7,), (10.4,), (13.6,), (20.7,), (27.7,), (22.2,)]\n"
     ]
    }
   ],
   "source": [
    "#Question 8a: All the temperature data.\n",
    "\n",
    "cur.execute(\"Select Temperature from weatherReport\")\n",
    "print(cur.fetchall())\n"
   ]
  },
  {
   "cell_type": "code",
   "execution_count": 106,
   "id": "55c913b6",
   "metadata": {},
   "outputs": [
    {
     "name": "stdout",
     "output_type": "stream",
     "text": [
      "[('Mumbai',), ('London',), ('Cairo',)]\n"
     ]
    }
   ],
   "source": [
    "#Question 8b: All the cities, but without repetition.\n",
    "\n",
    "cur.execute(\"Select Distinct City from weatherReport\")\n",
    "print(cur.fetchall())"
   ]
  },
  {
   "cell_type": "code",
   "execution_count": 107,
   "id": "48ccbe6b",
   "metadata": {},
   "outputs": [
    {
     "name": "stdout",
     "output_type": "stream",
     "text": [
      "[('Mumbai', 'India', 'Winter', 24.8, 5.9), ('Mumbai', 'India', 'Spring', 28.4, 16.2), ('Mumbai', 'India', 'Summer', 27.9, 1549.4), ('Mumbai', 'India', 'Fall', 27.6, 346.0)]\n"
     ]
    }
   ],
   "source": [
    "#Question 8c: All the records for India.\n",
    "\n",
    "cur.execute(\"Select * from weatherReport where Country = 'India'\")\n",
    "print(cur.fetchall())"
   ]
  },
  {
   "cell_type": "code",
   "execution_count": 108,
   "id": "19a220a9",
   "metadata": {},
   "outputs": [
    {
     "name": "stdout",
     "output_type": "stream",
     "text": [
      "[('Mumbai', 'India', 'Fall', 27.6, 346.0), ('London', 'United Kingdom', 'Fall', 10.4, 218.5), ('Cairo', 'Egypt', 'Fall', 22.2, 4.5)]\n"
     ]
    }
   ],
   "source": [
    "#Question 8d: All the Fall records.\n",
    "\n",
    "cur.execute(\"Select * from weatherReport where Season = 'Fall'\")\n",
    "print(cur.fetchall())"
   ]
  },
  {
   "cell_type": "code",
   "execution_count": 109,
   "id": "21cb4d8d",
   "metadata": {},
   "outputs": [
    {
     "name": "stdout",
     "output_type": "stream",
     "text": [
      "[('Mumbai', 'India', 'Fall'), ('London', 'United Kingdom', 'Winter'), ('London', 'United Kingdom', 'Fall')]\n"
     ]
    }
   ],
   "source": [
    "#Question 8e: The city, country, and season for which the average rainfall is between 200 and 400 millimeters.\n",
    "\n",
    "cur.execute(\"Select City, Country, Season from weatherReport where Rainfall between 200 and 400\")\n",
    "print(cur.fetchall())"
   ]
  },
  {
   "cell_type": "code",
   "execution_count": 110,
   "id": "974fbaef",
   "metadata": {},
   "outputs": [
    {
     "name": "stdout",
     "output_type": "stream",
     "text": [
      "[('Cairo', 'Egypt'), ('Mumbai', 'India')]\n"
     ]
    }
   ],
   "source": [
    "#Question 8f: The city and country for which the average Fall temperature is above 20 degrees, in increasing temperature order.\n",
    "\n",
    "cur.execute(\"Select City, Country from weatherReport where Season = 'Fall' and Temperature > 20 order by Temperature\")\n",
    "print(cur.fetchall())"
   ]
  },
  {
   "cell_type": "code",
   "execution_count": 111,
   "id": "9a589ac6",
   "metadata": {},
   "outputs": [
    {
     "name": "stdout",
     "output_type": "stream",
     "text": [
      "[(27.6,)]\n"
     ]
    }
   ],
   "source": [
    "#Question 8g: The total annual rainfall for Cairo.\n",
    "\n",
    "cur.execute(\"Select Sum(Rainfall) from weatherReport where City = 'Cairo'\")\n",
    "print(cur.fetchall())"
   ]
  },
  {
   "cell_type": "code",
   "execution_count": 112,
   "id": "f3fd852f",
   "metadata": {},
   "outputs": [
    {
     "name": "stdout",
     "output_type": "stream",
     "text": [
      "[(569.0,), (192.29999999999998,), (1706.5,), (230.1,)]\n"
     ]
    }
   ],
   "source": [
    "#Question 8h: The total rainfall for each season.\n",
    "\n",
    "cur.execute(\"Select Sum(Rainfall) from weatherReport group by Season\")\n",
    "print(cur.fetchall())"
   ]
  },
  {
   "cell_type": "code",
   "execution_count": 117,
   "id": "cae6f7e1",
   "metadata": {},
   "outputs": [
    {
     "name": "stdout",
     "output_type": "stream",
     "text": [
      "['THE', 'QUICK', 'BROWN', 'FOX', 'JUMPS', 'OVER', 'THE', 'LAZY', 'DOG']\n"
     ]
    }
   ],
   "source": [
    "#Question 9a: ['THE', 'QUICK', 'BROWN', 'FOX', 'JUMPS', 'OVER', 'THE', 'LAZY', 'DOG']\n",
    "\n",
    "words = ['The', 'quick', 'brown', 'fox', 'jumps', 'over', 'the', 'lazy', 'dog']\n",
    "newList=[]\n",
    "newList=[i.upper() for i in words]\n",
    "print(newList)"
   ]
  },
  {
   "cell_type": "code",
   "execution_count": 120,
   "id": "a3d86d41",
   "metadata": {},
   "outputs": [
    {
     "name": "stdout",
     "output_type": "stream",
     "text": [
      "['the', 'quick', 'brown', 'fox', 'jumps', 'over', 'the', 'lazy', 'dog']\n"
     ]
    }
   ],
   "source": [
    "#Question 9b: ['the', 'quick', 'brown', 'fox', 'jumps', 'over', 'the', 'lazy', 'dog']\n",
    "\n",
    "words = ['The', 'quick', 'brown', 'fox', 'jumps', 'over', 'the', 'lazy', 'dog']\n",
    "newList=[]\n",
    "newList=[i.lower() for i in words]\n",
    "print(newList)\n"
   ]
  },
  {
   "cell_type": "code",
   "execution_count": 140,
   "id": "c1c7f275",
   "metadata": {},
   "outputs": [
    {
     "name": "stdout",
     "output_type": "stream",
     "text": [
      "[3, 5, 5, 3, 5, 4, 3, 4, 3]\n"
     ]
    }
   ],
   "source": [
    "#Question 9c: [3, 5, 5, 3, 5, 4, 3, 4, 3] (the list of lengths of words in list words).\n",
    "\n",
    "words = ['The', 'quick', 'brown', 'fox', 'jumps', 'over', 'the', 'lazy', 'dog']\n",
    "newList=[]\n",
    "for i in words:\n",
    "    newList.append(len(i))  \n",
    "print(newList)"
   ]
  },
  {
   "cell_type": "code",
   "execution_count": 32,
   "id": "ae2ff4f2",
   "metadata": {},
   "outputs": [
    {
     "name": "stdout",
     "output_type": "stream",
     "text": [
      "[['THE', 'the', 3], ['QUICK', 'quick', 5], ['BROWN', 'brown', 5], ['FOX', 'fox', 3], ['JUMPS', 'jumps', 5], ['OVER', 'over', 4], ['THE', 'the', 3], ['LAZY', 'lazy', 4], ['DOG', 'dog', 3]]\n"
     ]
    }
   ],
   "source": [
    "#Question 9d: [['THE', 'the', 3], ['QUICK', 'quick', 5], ['BROWN','brown', 5], ['FOX', 'fox', 3], ['JUMPS', 'jumps', 5],['OVER', 'over', 4], ['THE', 'the', 3], ['LAZY', 'lazy',4], ['DOG', 'dog', 3]] (the list containing a list for every word of listwords, where each list contains the word in uppercase and lowercase and thelength of the word.)\n",
    "\n",
    "words = ['The', 'quick', 'brown', 'fox', 'jumps', 'over', 'the', 'lazy', 'dog']\n",
    "newList=[]\n",
    "secondList =[]\n",
    "for i in words:\n",
    "    #newList.append([])\n",
    "    #print(newList)\n",
    "    # for j in i:\n",
    "    newList.append(i.upper())\n",
    "    newList.append(i.lower())\n",
    "    newList.append(len(i))\n",
    " \n",
    "    secondList.append(newList)\n",
    "    newList=[]\n",
    "    \n",
    "print(secondList)\n"
   ]
  },
  {
   "cell_type": "code",
   "execution_count": 34,
   "id": "557a91d5",
   "metadata": {},
   "outputs": [
    {
     "name": "stdout",
     "output_type": "stream",
     "text": [
      "['quick', 'brown', 'jumps', 'over', 'lazy']\n"
     ]
    }
   ],
   "source": [
    "#Question 9e:['quick', 'brown', 'jumps', 'over','lazy'] (the list of words in list words containing 4 or more characters.)\n",
    "\n",
    "words = ['The', 'quick', 'brown', 'fox', 'jumps', 'over', 'the', 'lazy', 'dog']\n",
    "newList=[]\n",
    "\n",
    "for sortList in words:\n",
    "    if len(sortList) >= 4:\n",
    "        newList.append(sortList)\n",
    "print(newList)\n"
   ]
  }
 ],
 "metadata": {
  "kernelspec": {
   "display_name": "Python 3",
   "language": "python",
   "name": "python3"
  },
  "language_info": {
   "codemirror_mode": {
    "name": "ipython",
    "version": 3
   },
   "file_extension": ".py",
   "mimetype": "text/x-python",
   "name": "python",
   "nbconvert_exporter": "python",
   "pygments_lexer": "ipython3",
   "version": "3.8.8"
  }
 },
 "nbformat": 4,
 "nbformat_minor": 5
}
